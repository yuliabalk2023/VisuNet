{
  "nbformat": 4,
  "nbformat_minor": 0,
  "metadata": {
    "colab": {
      "provenance": [],
      "authorship_tag": "ABX9TyNwdVg8MNEPB1tym5dlUDcV",
      "include_colab_link": true
    },
    "kernelspec": {
      "name": "python3",
      "display_name": "Python 3"
    },
    "language_info": {
      "name": "python"
    }
  },
  "cells": [
    {
      "cell_type": "markdown",
      "metadata": {
        "id": "view-in-github",
        "colab_type": "text"
      },
      "source": [
        "<a href=\"https://colab.research.google.com/github/yuliabalk2023/VisuNet/blob/main/HangManGame.ipynb\" target=\"_parent\"><img src=\"https://colab.research.google.com/assets/colab-badge.svg\" alt=\"Open In Colab\"/></a>"
      ]
    },
    {
      "cell_type": "code",
      "execution_count": null,
      "metadata": {
        "colab": {
          "base_uri": "https://localhost:8080/"
        },
        "id": "lrDJ2QMH2O3Y",
        "outputId": "0aff790b-7ba0-4797-ee1e-20d2f51072a7"
      },
      "outputs": [
        {
          "output_type": "stream",
          "name": "stdout",
          "text": [
            "The word now looks like this: -------\n",
            "You have 8 guesses left\n",
            "Type a single letter here, then press enter: h\n",
            "There are no H's in the word\n",
            "The word now looks like this: -------\n",
            "You have 7 guesses left\n",
            "Type a single letter here, then press enter: j\n",
            "There are no J's in the word\n",
            "The word now looks like this: -------\n",
            "You have 6 guesses left\n",
            "Type a single letter here, then press enter: j\n",
            "There are no J's in the word\n",
            "The word now looks like this: -------\n",
            "You have 5 guesses left\n",
            "Type a single letter here, then press enter: n\n",
            "There are no N's in the word\n",
            "The word now looks like this: -------\n",
            "You have 4 guesses left\n",
            "Type a single letter here, then press enter: n\n",
            "There are no N's in the word\n",
            "The word now looks like this: -------\n",
            "You have 3 guesses left\n",
            "Type a single letter here, then press enter: n\n",
            "There are no N's in the word\n",
            "The word now looks like this: -------\n",
            "You have 2 guesses left\n",
            "Type a single letter here, then press enter: n\n",
            "There are no N's in the word\n",
            "The word now looks like this: -------\n",
            "You have 1 guesses left\n",
            "Type a single letter here, then press enter: n\n",
            "There are no N's in the word\n",
            "Sorry, you lost. The secret word was: AIGLETS\n"
          ]
        }
      ],
      "source": [
        "import random\n",
        "\n",
        "LEXICON_FILE = \"Lexicon.txt\"    # File to read word list from\n",
        "INITIAL_GUESSES = 8             # Max number of guesses per game\n",
        "\n",
        "def play_game(secret_word):\n",
        "    secret_word = secret_word.upper()\n",
        "    displayed_word = ['-' for _ in secret_word]\n",
        "    guesses_left = INITIAL_GUESSES\n",
        "    guessed_letters = set()\n",
        "\n",
        "    while guesses_left > 0 and '-' in displayed_word:\n",
        "        print(\"The word now looks like this:\", ''.join(displayed_word))\n",
        "        print(f\"You have {guesses_left} guesses left\")\n",
        "\n",
        "        guess = input(\"Type a single letter here, then press enter: \").strip().upper()\n",
        "\n",
        "        # Validate input\n",
        "        if len(guess) != 1:\n",
        "            print(\"Guess should only be a single character.\")\n",
        "            continue\n",
        "\n",
        "        if guess in guessed_letters and guess in secret_word:\n",
        "            # Correct letter guessed again, do nothing\n",
        "            print(\"You already guessed that correctly. No penalty.\")\n",
        "            continue\n",
        "\n",
        "        guessed_letters.add(guess)\n",
        "\n",
        "        if guess in secret_word:\n",
        "            print(\"That guess is correct.\")\n",
        "            for i in range(len(secret_word)):\n",
        "                if secret_word[i] == guess:\n",
        "                    displayed_word[i] = guess\n",
        "        else:\n",
        "            print(f\"There are no {guess}'s in the word\")\n",
        "            guesses_left -= 1\n",
        "\n",
        "    # End of game\n",
        "    if '-' not in displayed_word:\n",
        "        print(f\"Congratulations, the word is: {''.join(displayed_word)}\")\n",
        "    else:\n",
        "        print(f\"Sorry, you lost. The secret word was: {secret_word}\")\n",
        "\n",
        "def get_word():\n",
        "    \"\"\"\n",
        "    Reads a list of words from the LEXICON_FILE and returns one at random.\n",
        "    \"\"\"\n",
        "    \"\"\"\n",
        "    Reads a list of words from the LEXICON_FILE and returns one at random.\n",
        "    \"\"\"\n",
        "    file = open(LEXICON_FILE, 'r')\n",
        "    lines = file.readlines()\n",
        "    file.close()\n",
        "    words = [line.strip().upper() for line in lines if line.strip()]\n",
        "    return random.choice(words)\n",
        "\n",
        "def main():\n",
        "    secret_word = get_word()\n",
        "    play_game(secret_word)\n",
        "if __name__ == \"__main__\":\n",
        "    main()"
      ]
    }
  ]
}